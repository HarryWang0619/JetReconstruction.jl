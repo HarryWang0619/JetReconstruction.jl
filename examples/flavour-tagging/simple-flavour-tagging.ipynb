{
 "cells": [
  {
   "cell_type": "code",
   "execution_count": 1,
   "id": "21a84728",
   "metadata": {},
   "outputs": [],
   "source": [
    "using EDM4hep\n",
    "using EDM4hep.RootIO\n",
    "using StaticArrays\n",
    "using LorentzVectorHEP\n",
    "using JSON\n",
    "using ONNXRunTime\n",
    "using StructArrays"
   ]
  },
  {
   "cell_type": "code",
   "execution_count": 2,
   "id": "3b92ca23",
   "metadata": {},
   "outputs": [
    {
     "name": "stderr",
     "output_type": "stream",
     "text": [
      "\u001b[32m\u001b[1m  No Changes\u001b[22m\u001b[39m to `~/.julia/environments/v1.11/Project.toml`\n",
      "\u001b[32m\u001b[1m  No Changes\u001b[22m\u001b[39m to `~/.julia/environments/v1.11/Manifest.toml`\n",
      "\u001b[32m\u001b[1m   Resolving\u001b[22m\u001b[39m package versions...\n",
      "\u001b[32m\u001b[1m  No Changes\u001b[22m\u001b[39m to `~/.julia/environments/v1.11/Project.toml`\n",
      "\u001b[32m\u001b[1m  No Changes\u001b[22m\u001b[39m to `~/.julia/environments/v1.11/Manifest.toml`\n",
      "WARNING: Method definition get_erel_log_cluster(Array{JetReconstruction.EEJet, 1}, Array{var\"#s102\", 1} where var\"#s102\"<:(StructArrays.StructArray{EDM4hep.ReconstructedParticle, 1, var\"#s1\", I} where I where var\"#s1\")) in module JetFlavourHelper at /Users/harrywanghc/Developer/2025/JuliaHEPForkToMain/JetReconstruction.jl/ext/JetFlavourTagging/JetConstituentUtils.jl:1426 overwritten at /Users/harrywanghc/Developer/2025/JuliaHEPForkToMain/JetReconstruction.jl/ext/JetFlavourTagging/JetConstituentUtils.jl:1468.\n",
      "ERROR: Method overwriting is not permitted during Module precompilation. Use `__precompile__(false)` to opt-out of precompilation.\n"
     ]
    },
    {
     "name": "stdout",
     "output_type": "stream",
     "text": [
      "\u001b[32m\u001b[1mStatus\u001b[22m\u001b[39m `~/.julia/environments/v1.11/Project.toml`\n",
      "  \u001b[90m[c7e460c6] \u001b[39mArgParse v1.2.0\n",
      "  \u001b[90m[6e4b80f9] \u001b[39mBenchmarkTools v1.6.0\n",
      "  \u001b[90m[150eb455] \u001b[39mCoordinateTransformations v0.6.4\n",
      "  \u001b[90m[a93c6f00] \u001b[39mDataFrames v1.7.0\n",
      "  \u001b[90m[eb32b910] \u001b[39mEDM4hep v0.4.3\n",
      "\u001b[32m⌃\u001b[39m \u001b[90m[5c1252a2] \u001b[39mGeometryBasics v0.5.7\n",
      "\u001b[32m⌃\u001b[39m \u001b[90m[7073ff75] \u001b[39mIJulia v1.27.0\n",
      "  \u001b[90m[682c06a0] \u001b[39mJSON v0.21.4\n",
      "  \u001b[90m[44e8cb2c] \u001b[39mJetReconstruction v0.5.0-dev `~/Developer/2025/JuliaHEPForkToMain/JetReconstruction.jl`\n",
      "  \u001b[90m[98e50ef6] \u001b[39mJuliaFormatter v2.1.2\n",
      "  \u001b[90m[bdcacae8] \u001b[39mLoopVectorization v0.12.172\n",
      "\u001b[32m⌃\u001b[39m \u001b[90m[f612022c] \u001b[39mLorentzVectorHEP v0.1.6\n",
      "  \u001b[90m[e034b28e] \u001b[39mONNXRunTime v1.3.1\n",
      "  \u001b[90m[5ad8b20f] \u001b[39mPhysicalConstants v0.2.4\n",
      "\u001b[32m⌃\u001b[39m \u001b[90m[91a5bcdd] \u001b[39mPlots v1.40.13\n",
      "  \u001b[90m[6038ab10] \u001b[39mRotations v1.7.1\n",
      "  \u001b[90m[90137ffa] \u001b[39mStaticArrays v1.9.13\n",
      "  \u001b[90m[10745b16] \u001b[39mStatistics v1.11.1\n",
      "  \u001b[90m[2913bbd2] \u001b[39mStatsBase v0.34.5\n",
      "\u001b[33m⌅\u001b[39m \u001b[90m[09ab397b] \u001b[39mStructArrays v0.6.21\n",
      "\u001b[32m⌃\u001b[39m \u001b[90m[1e6cf692] \u001b[39mTestEnv v1.102.0\n",
      "  \u001b[90m[3cd96dde] \u001b[39mUnROOT v0.10.36\n",
      "  \u001b[90m[37e2e46d] \u001b[39mLinearAlgebra v1.11.0\n",
      "\u001b[36m\u001b[1mInfo\u001b[22m\u001b[39m Packages marked with \u001b[32m⌃\u001b[39m and \u001b[33m⌅\u001b[39m have new versions available. Those with \u001b[32m⌃\u001b[39m may be upgradable, but those with \u001b[33m⌅\u001b[39m are restricted by compatibility constraints from upgrading. To see why use `status --outdated`\n"
     ]
    }
   ],
   "source": [
    "using Pkg\n",
    "Pkg.resolve()\n",
    "Pkg.develop(Pkg.PackageSpec(path = \"/Users/harrywanghc/Developer/2025/JuliaHEPForkToMain/JetReconstruction.jl\"))\n",
    "using JetReconstruction\n",
    "Pkg.status()"
   ]
  },
  {
   "cell_type": "code",
   "execution_count": 3,
   "id": "379f4304",
   "metadata": {},
   "outputs": [
    {
     "name": "stdout",
     "output_type": "stream",
     "text": [
      "The model predicts these flavor classes:\n",
      " - recojet_isG\n",
      " - recojet_isQ\n",
      " - recojet_isS\n",
      " - recojet_isC\n",
      " - recojet_isB\n"
     ]
    }
   ],
   "source": [
    "# Paths to model files\n",
    "model_dir = \"data/wc_pt_7classes_12_04_2023\"\n",
    "onnx_path = joinpath(model_dir, \"fccee_flavtagging_edm4hep_wc_v1.onnx\")\n",
    "json_path = joinpath(model_dir, \"fccee_flavtagging_edm4hep_wc_v1.json\")\n",
    "\n",
    "# Load the configuration and model\n",
    "config = JSON.parsefile(json_path)\n",
    "model = ONNXRunTime.load_inference(onnx_path)\n",
    "\n",
    "# Display the output classes we'll predict\n",
    "println(\"The model predicts these flavor classes:\")\n",
    "for class_name in config[\"output_names\"]\n",
    "    println(\" - \", class_name)\n",
    "end"
   ]
  },
  {
   "cell_type": "code",
   "execution_count": 4,
   "id": "51c71156",
   "metadata": {},
   "outputs": [
    {
     "name": "stdout",
     "output_type": "stream",
     "text": [
      "Loaded 100000 events\n",
      "Processing event #15\n",
      "Loaded 65 reconstructed particles\n",
      "Loaded 147 Monte Carlo particles\n",
      "Loaded 29 tracks\n"
     ]
    }
   ],
   "source": [
    "# Path to ROOT file with EDM4hep data\n",
    "edm4hep_path = \"data/events_080263084.root\"\n",
    "reader = RootIO.Reader(edm4hep_path)\n",
    "\n",
    "# Get event information\n",
    "events = RootIO.get(reader, \"events\")\n",
    "println(\"Loaded $(length(events)) events\")\n",
    "\n",
    "# Choose a specific event to analyze (event #15)\n",
    "event_id = 15\n",
    "evt = events[event_id]\n",
    "println(\"Processing event #$event_id\")\n",
    "\n",
    "# Get reconstructed particles and tracks\n",
    "recps = RootIO.get(reader, evt, \"ReconstructedParticles\")\n",
    "mcps = RootIO.get(reader, evt, \"Particle\")\n",
    "MCRecoLinks = RootIO.get(reader, evt, \"MCRecoAssociations\")\n",
    "tracks = RootIO.get(reader, evt, \"EFlowTrack_1\")\n",
    "\n",
    "# Get needed collections for feature extraction\n",
    "bz = RootIO.get(reader, evt, \"magFieldBz\", register = false)[1]\n",
    "trackdata = RootIO.get(reader, evt, \"EFlowTrack\")\n",
    "trackerhits = RootIO.get(reader, evt, \"TrackerHits\")\n",
    "gammadata = RootIO.get(reader, evt, \"EFlowPhoton\")\n",
    "nhdata = RootIO.get(reader, evt, \"EFlowNeutralHadron\")\n",
    "calohits = RootIO.get(reader, evt, \"CalorimeterHits\")\n",
    "dNdx = RootIO.get(reader, evt, \"EFlowTrack_2\")\n",
    "track_L = RootIO.get(reader, evt, \"EFlowTrack_L\", register = false)\n",
    "\n",
    "mc_vertices = Vector{LorentzVector{Float32}}(undef, length(recps))\n",
    "reco_to_mc = Dict(link.rec_idx.index => link.sim_idx.index for link in MCRecoLinks)\n",
    "for (rec_idx, mc_idx) in reco_to_mc\n",
    "    mc_vertices[rec_idx+1] = LorentzVector(mcps[mc_idx+1].vertex.x, mcps[mc_idx+1].vertex.y, mcps[mc_idx+1].vertex.z, mcps[mc_idx+1].time)\n",
    "end\n",
    "\n",
    "println(\"Loaded $(length(recps)) reconstructed particles\")\n",
    "println(\"Loaded $(length(mcps)) Monte Carlo particles\")\n",
    "println(\"Loaded $(length(tracks)) tracks\")"
   ]
  },
  {
   "cell_type": "code",
   "execution_count": 5,
   "id": "f96fe81b",
   "metadata": {},
   "outputs": [
    {
     "data": {
      "text/plain": [
       "2-element Vector{StructVector{ReconstructedParticle, @NamedTuple{index::StructVector{ObjectID{ReconstructedParticle}, @NamedTuple{index::Vector{Int64}, collectionID::Vector{UInt32}}, Int64}, type::Vector{Int32}, energy::Vector{Float32}, momentum::StructVector{Vector3f, @NamedTuple{x::Vector{Float32}, y::Vector{Float32}, z::Vector{Float32}}, Int64}, referencePoint::StructVector{Vector3f, @NamedTuple{x::Vector{Float32}, y::Vector{Float32}, z::Vector{Float32}}, Int64}, charge::Vector{Float32}, mass::Vector{Float32}, goodnessOfPID::Vector{Float32}, covMatrix::StructVector{SVector{10, Float32}, NTuple{10, Vector{Float32}}, Int64}, clusters::StructVector{Relation{ReconstructedParticle, Cluster, 1}, @NamedTuple{first::Vector{UInt32}, last::Vector{UInt32}, collid::Vector{UInt32}}, Int64}, tracks::StructVector{Relation{ReconstructedParticle, Track, 2}, @NamedTuple{first::Vector{UInt32}, last::Vector{UInt32}, collid::Vector{UInt32}}, Int64}, particles::StructVector{Relation{ReconstructedParticle, ReconstructedParticle, 3}, @NamedTuple{first::Vector{UInt32}, last::Vector{UInt32}, collid::Vector{UInt32}}, Int64}, particleIDs::StructVector{Relation{ReconstructedParticle, ParticleID, 4}, @NamedTuple{first::Vector{UInt32}, last::Vector{UInt32}, collid::Vector{UInt32}}, Int64}, startVertex_idx::StructVector{ObjectID{Vertex}, @NamedTuple{index::Vector{Int32}, collectionID::Vector{Int32}}, Int64}, particleIDUsed_idx::StructVector{ObjectID{ParticleID}, @NamedTuple{index::Vector{Int32}, collectionID::Vector{Int32}}, Int64}}, Int64}}:\n",
       " [ReconstructedParticle(#4, 0, 20.46865f0, (-19.487997, -1.9470071, 5.9491873), (0.0, 0.0, 0.0), -1.0f0, 0.00051099894f0, 0.0f0, Float32[0.0, 0.0, 0.0, 0.0, 0.0, 0.0, 0.0, 0.0, 0.0, 0.0], Cluster#[], Track#[4], ReconstructedParticle#[], ParticleID#[4], #0, #0), ReconstructedParticle(#1, 0, 41.66906f0, (-38.420082, -8.888379, -13.460811), (0.0, 0.0, 0.0), 1.0f0, 0.105658375f0, 0.0f0, Float32[0.0, 0.0, 0.0, 0.0, 0.0, 0.0, 0.0, 0.0, 0.0, 0.0], Cluster#[], Track#[1], ReconstructedParticle#[], ParticleID#[1], #0, #0), ReconstructedParticle(#30, 22, 5.97301f0, (-5.5111613, -1.3775525, -1.8456159), (0.0, 0.0, 0.0), 0.0f0, 0.00072206435f0, 0.0f0, Float32[0.0, 0.0, 0.0, 0.0, 0.0, 0.0, 0.0, 0.0, 0.0, 0.0], Cluster#[1], Track#[], ReconstructedParticle#[], ParticleID#[], #0, #0)]\n",
       " [ReconstructedParticle(#49, 22, 0.038685087f0, (0.0016564546, 0.030539023, 0.023688823), (0.0, 0.0, 0.0), 0.0f0, -7.2657667f-6, 0.0f0, Float32[0.0, 0.0, 0.0, 0.0, 0.0, 0.0, 0.0, 0.0, 0.0, 0.0], Cluster#[20], Track#[], ReconstructedParticle#[], ParticleID#[], #0, #0), ReconstructedParticle(#50, 22, 0.07068448f0, (0.009334846, 0.04360084, 0.054846358), (0.0, 0.0, 0.0), 0.0f0, -1.211525f-5, 0.0f0, Float32[0.0, 0.0, 0.0, 0.0, 0.0, 0.0, 0.0, 0.0, 0.0, 0.0], Cluster#[21], Track#[], ReconstructedParticle#[], ParticleID#[], #0, #0), ReconstructedParticle(#20, 0, 2.3770719f0, (0.18115185, 0.92913306, 2.1759794), (0.0, 0.0, 0.0), -1.0f0, 0.13957039f0, 0.0f0, Float32[0.0, 0.0, 0.0, 0.0, 0.0, 0.0, 0.0, 0.0, 0.0, 0.0], Cluster#[], Track#[20], ReconstructedParticle#[], ParticleID#[20], #0, #0), ReconstructedParticle(#52, 22, 0.49115527f0, (0.044869967, 0.21402507, 0.43978798), (0.0, 0.0, 0.0), 0.0f0, -6.145881f-5, 0.0f0, Float32[0.0, 0.0, 0.0, 0.0, 0.0, 0.0, 0.0, 0.0, 0.0, 0.0], Cluster#[23], Track#[], ReconstructedParticle#[], ParticleID#[], #0, #0), ReconstructedParticle(#58, 22, 2.2526124f0, (-0.008166414, 0.70710534, 2.1387374), (0.0, 0.0, 0.0), 0.0f0, -0.00067013147f0, 0.0f0, Float32[0.0, 0.0, 0.0, 0.0, 0.0, 0.0, 0.0, 0.0, 0.0, 0.0], Cluster#[29], Track#[], ReconstructedParticle#[], ParticleID#[], #0, #0), ReconstructedParticle(#59, 22, 1.1003908f0, (-0.00017319276, 0.32061982, 1.0526457), (0.0, 0.0, 0.0), 0.0f0, -0.00021608449f0, 0.0f0, Float32[0.0, 0.0, 0.0, 0.0, 0.0, 0.0, 0.0, 0.0, 0.0, 0.0], Cluster#[30], Track#[], ReconstructedParticle#[], ParticleID#[], #0, #0), ReconstructedParticle(#54, 22, 1.757357f0, (0.08186126, 0.5793458, 1.6570942), (0.0, 0.0, 0.0), 0.0f0, -0.0007735479f0, 0.0f0, Float32[0.0, 0.0, 0.0, 0.0, 0.0, 0.0, 0.0, 0.0, 0.0, 0.0], Cluster#[25], Track#[], ReconstructedParticle#[], ParticleID#[], #0, #0), ReconstructedParticle(#56, 22, 5.843931f0, (0.19479804, 1.8359567, 5.5446234), (0.0, 0.0, 0.0), 0.0f0, -0.0012316033f0, 0.0f0, Float32[0.0, 0.0, 0.0, 0.0, 0.0, 0.0, 0.0, 0.0, 0.0, 0.0], Cluster#[27], Track#[], ReconstructedParticle#[], ParticleID#[], #0, #0), ReconstructedParticle(#25, 0, 2.5155842f0, (0.28472182, 0.63002336, 2.414682), (0.0, 0.0, 0.0), 1.0f0, 0.13957039f0, 0.0f0, Float32[0.0, 0.0, 0.0, 0.0, 0.0, 0.0, 0.0, 0.0, 0.0, 0.0], Cluster#[], Track#[25], ReconstructedParticle#[], ParticleID#[25], #0, #0), ReconstructedParticle(#53, 22, 0.10352973f0, (0.032321043, 0.012602998, 0.09754445), (0.0, 0.0, 0.0), 0.0f0, 2.5103373f-5, 0.0f0, Float32[0.0, 0.0, 0.0, 0.0, 0.0, 0.0, 0.0, 0.0, 0.0, 0.0], Cluster#[24], Track#[], ReconstructedParticle#[], ParticleID#[], #0, #0)  …  ReconstructedParticle(#36, 22, 1.2084657f0, (1.1462502, 0.09732889, 0.37017113), (0.0, 0.0, 0.0), 0.0f0, 9.1004724f-5, 0.0f0, Float32[0.0, 0.0, 0.0, 0.0, 0.0, 0.0, 0.0, 0.0, 0.0, 0.0], Cluster#[7], Track#[], ReconstructedParticle#[], ParticleID#[], #0, #0), ReconstructedParticle(#7, 0, 3.8613276f0, (3.6221685, -0.1164991, 1.3254038), (0.0, 0.0, 0.0), -1.0f0, 0.13957039f0, 0.0f0, Float32[0.0, 0.0, 0.0, 0.0, 0.0, 0.0, 0.0, 0.0, 0.0, 0.0], Cluster#[], Track#[7], ReconstructedParticle#[], ParticleID#[7], #0, #0), ReconstructedParticle(#11, 0, 4.4815288f0, (4.0670757, -0.13165577, 1.8724797), (0.0, 0.0, 0.0), -1.0f0, 0.13957039f0, 0.0f0, Float32[0.0, 0.0, 0.0, 0.0, 0.0, 0.0, 0.0, 0.0, 0.0, 0.0], Cluster#[], Track#[11], ReconstructedParticle#[], ParticleID#[11], #0, #0), ReconstructedParticle(#28, 0, 0.5223787f0, (0.4566623, 0.0062101614, 0.21170896), (0.0, 0.0, 0.0), -1.0f0, 0.13957039f0, 0.0f0, Float32[0.0, 0.0, 0.0, 0.0, 0.0, 0.0, 0.0, 0.0, 0.0, 0.0], Cluster#[], Track#[28], ReconstructedParticle#[], ParticleID#[28], #0, #0), ReconstructedParticle(#41, 22, 0.3654142f0, (0.33327267, 0.007723306, 0.14965703), (0.0, 0.0, 0.0), 0.0f0, 3.5387056f-5, 0.0f0, Float32[0.0, 0.0, 0.0, 0.0, 0.0, 0.0, 0.0, 0.0, 0.0, 0.0], Cluster#[12], Track#[], ReconstructedParticle#[], ParticleID#[], #0, #0), ReconstructedParticle(#10, 0, 1.0771525f0, (0.83581126, -0.55972606, 0.35903203), (0.0, 0.0, 0.0), -1.0f0, 0.13957039f0, 0.0f0, Float32[0.0, 0.0, 0.0, 0.0, 0.0, 0.0, 0.0, 0.0, 0.0, 0.0], Cluster#[], Track#[10], ReconstructedParticle#[], ParticleID#[10], #0, #0), ReconstructedParticle(#37, 22, 0.055122558f0, (0.046858095, -0.02121588, 0.0198167), (0.0, 0.0, 0.0), 0.0f0, 1.1097479f-5, 0.0f0, Float32[0.0, 0.0, 0.0, 0.0, 0.0, 0.0, 0.0, 0.0, 0.0, 0.0], Cluster#[8], Track#[], ReconstructedParticle#[], ParticleID#[], #0, #0), ReconstructedParticle(#17, 0, 1.157116f0, (0.7993353, -0.37195656, 0.73630774), (0.0, 0.0, 0.0), -1.0f0, 0.13957039f0, 0.0f0, Float32[0.0, 0.0, 0.0, 0.0, 0.0, 0.0, 0.0, 0.0, 0.0, 0.0], Cluster#[], Track#[17], ReconstructedParticle#[], ParticleID#[17], #0, #0), ReconstructedParticle(#46, 22, 0.7516057f0, (0.59814185, -0.19748434, 0.41004556), (0.0, 0.0, 0.0), 0.0f0, -6.0317438f-5, 0.0f0, Float32[0.0, 0.0, 0.0, 0.0, 0.0, 0.0, 0.0, 0.0, 0.0, 0.0], Cluster#[17], Track#[], ReconstructedParticle#[], ParticleID#[], #0, #0), ReconstructedParticle(#48, 22, 0.29473728f0, (0.23144196, -0.054464586, 0.1741789), (0.0, 0.0, 0.0), 0.0f0, 7.500272f-5, 0.0f0, Float32[0.0, 0.0, 0.0, 0.0, 0.0, 0.0, 0.0, 0.0, 0.0, 0.0], Cluster#[19], Track#[], ReconstructedParticle#[], ParticleID#[], #0, #0)]"
      ]
     },
     "metadata": {},
     "output_type": "display_data"
    }
   ],
   "source": [
    "# Cluster jets using the EEkt algorithm with R=2.0 and p=1.0\n",
    "cs = jet_reconstruct(recps; p = 1.0, R = 2.0, algorithm = JetAlgorithm.EEKt)\n",
    "\n",
    "# Get 2 exclusive jets\n",
    "jets = exclusive_jets(cs; njets=2, T=EEJet)\n",
    "\n",
    "# For each jet, get its constituent particles\n",
    "constituent_indices = [constituent_indexes(jet, cs) for jet in jets]\n",
    "jet_constituents = build_constituents_cluster(recps, constituent_indices)"
   ]
  },
  {
   "cell_type": "code",
   "execution_count": 6,
   "id": "4f46c6c3",
   "metadata": {},
   "outputs": [
    {
     "name": "stdout",
     "output_type": "stream",
     "text": [
      "Extracting features for flavor tagging...\n",
      "Step 1: Feature extraction completed.\n",
      "Step 2: Weaver setup completed.\n",
      "Step 3: Input tensor preparation completed.\n",
      "Running flavor tagging inference...\n",
      "Step 4: Weights retrieval completed.\n",
      "Jet scores:\n",
      " - recojet_isG: 0.20045522\n",
      " - recojet_isB: 0.7949252\n",
      " - recojet_isQ: 0.001174435\n",
      " - recojet_isC: 0.0027448845\n",
      " - recojet_isS: 0.0007002373\n"
     ]
    }
   ],
   "source": [
    "println(\"Extracting features for flavor tagging...\")\n",
    "feature_data = extract_features(\n",
    "    jets, \n",
    "    jet_constituents, \n",
    "    tracks, \n",
    "    bz, \n",
    "    track_L, \n",
    "    trackdata, \n",
    "    trackerhits, \n",
    "    gammadata, \n",
    "    nhdata, \n",
    "    calohits, \n",
    "    dNdx\n",
    ")\n",
    "println(\"Step 1: Feature extraction completed.\")\n",
    "\n",
    "model, config = setup_weaver(\n",
    "    onnx_path,\n",
    "    json_path\n",
    ")\n",
    "\n",
    "println(\"Step 2: Weaver setup completed.\")\n",
    "\n",
    "input_tensors = prepare_input_tensor(\n",
    "    jet_constituents,\n",
    "    jets,\n",
    "    config,\n",
    "    feature_data\n",
    ")\n",
    "\n",
    "println(\"Step 3: Input tensor preparation completed.\")\n",
    "\n",
    "println(\"Running flavor tagging inference...\")\n",
    "weights = get_weights(\n",
    "    0,  # Thread slot\n",
    "    feature_data,\n",
    "    jets,\n",
    "    jet_constituents,\n",
    "    config,\n",
    "    model\n",
    ")\n",
    "println(\"Step 4: Weights retrieval completed.\")\n",
    "\n",
    "jet_scores = Dict{String, Vector{Float32}}()\n",
    "for (i, score_name) in enumerate(config[\"output_names\"])\n",
    "    jet_scores[score_name] = get_weight(weights, i-1)\n",
    "end\n",
    "\n",
    "println(\"Jet scores:\")\n",
    "for (name, scores) in jet_scores\n",
    "    println(\" - $name: $(scores[1])\")\n",
    "end"
   ]
  }
 ],
 "metadata": {
  "kernelspec": {
   "display_name": "Julia 1.11.5",
   "language": "julia",
   "name": "julia-1.11"
  },
  "language_info": {
   "file_extension": ".jl",
   "mimetype": "application/julia",
   "name": "julia",
   "version": "1.11.5"
  }
 },
 "nbformat": 4,
 "nbformat_minor": 5
}
